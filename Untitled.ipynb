{
 "cells": [
  {
   "cell_type": "markdown",
   "id": "552cb6e2-ea1e-4350-837d-886ea7f29224",
   "metadata": {
    "tags": []
   },
   "source": [
    "# My Jupyter Notebook on IBM Watson Studio #"
   ]
  },
  {
   "cell_type": "markdown",
   "id": "44cfcf7c-743e-4a17-b1dd-26a192873d09",
   "metadata": {},
   "source": [
    "__John Lukasavage__\n",
    "\n",
    "Aspiring for a position in large scale greenhouse management"
   ]
  },
  {
   "cell_type": "markdown",
   "id": "58f1e2eb-70cd-4c06-a5fd-48b174d867f3",
   "metadata": {},
   "source": [
    "_I am interested in a career in data science because I believe it greatly helps any business field in the world. Without the collection, manipulation and translation of data, we are doomed to repeat past failures. Without predictive modeling we could be overlooking missed opportunities to advance knowledge and growth._"
   ]
  },
  {
   "cell_type": "markdown",
   "id": "8e252e98-43b0-4e7a-8a98-07dd79e630e2",
   "metadata": {},
   "source": [
    "### I am not yet versed in Python, so here is a simple line of arithmetic code. It should display the answer to 1 + 1."
   ]
  },
  {
   "cell_type": "code",
   "execution_count": 2,
   "id": "56790b84-c9fc-45cf-a522-8556b7568b93",
   "metadata": {},
   "outputs": [
    {
     "data": {
      "text/plain": [
       "2"
      ]
     },
     "execution_count": 2,
     "metadata": {},
     "output_type": "execute_result"
    }
   ],
   "source": [
    "1+1"
   ]
  },
  {
   "cell_type": "markdown",
   "id": "75dd75de-133c-45bf-b5ed-f2037ed61f80",
   "metadata": {},
   "source": [
    "- This is a bullet item\n",
    "- This is also a bullet item\n",
    "- Here's a third bullet item\n",
    "\n",
    "~I am also learning~ I also learned how to create numbered lists\n",
    "\n",
    "1. Here is number one on the list\n",
    "1. This should be number two, even though I put it as another number one in markdown\n",
    "1. Here is the third numbered item, I hope it works!\n"
   ]
  },
  {
   "cell_type": "code",
   "execution_count": null,
   "id": "798cf94d-ef5a-43f5-a418-fcb37a8fc176",
   "metadata": {},
   "outputs": [],
   "source": []
  }
 ],
 "metadata": {
  "kernelspec": {
   "display_name": "Python",
   "language": "python",
   "name": "conda-env-python-py"
  },
  "language_info": {
   "codemirror_mode": {
    "name": "ipython",
    "version": 3
   },
   "file_extension": ".py",
   "mimetype": "text/x-python",
   "name": "python",
   "nbconvert_exporter": "python",
   "pygments_lexer": "ipython3",
   "version": "3.7.12"
  }
 },
 "nbformat": 4,
 "nbformat_minor": 5
}
